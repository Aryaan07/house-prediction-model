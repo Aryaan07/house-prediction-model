from joblib import dump, load
import numpy as np
model,my_pipeline = load('Dragon.joblib') 
a=np.array([[4.87141,0.0,18.10,0,0.614,6.484,93.6,2.3053,24,666,20.2,396.21,18.68]])
X_test_prepared = my_pipeline.transform(a)
final_predictions = model.predict(X_test_prepared)
print(final_predictions)
